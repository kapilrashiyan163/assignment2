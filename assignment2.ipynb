{
 "cells": [
  {
   "cell_type": "code",
   "execution_count": null,
   "id": "d937f8c0-fc2b-4f74-a935-4bb9a9fb4f2c",
   "metadata": {},
   "outputs": [],
   "source": [
    "#Q1. Which keyword is used to create a function? Create a function to return a list of odd numbers in the\n",
    "#range of 1 to 25."
   ]
  },
  {
   "cell_type": "code",
   "execution_count": 1,
   "id": "6c30beed-4cd6-44a6-8247-80bc176ecf0f",
   "metadata": {},
   "outputs": [
    {
     "name": "stdout",
     "output_type": "stream",
     "text": [
      "Hello from a function\n"
     ]
    }
   ],
   "source": [
    "def my_function():\n",
    "  print(\"Hello from a function\")\n",
    "\n",
    "my_function()"
   ]
  },
  {
   "cell_type": "code",
   "execution_count": 27,
   "id": "e374a564-110e-4423-a004-c3737ff8813f",
   "metadata": {},
   "outputs": [],
   "source": [
    "def test():\n",
    "    odd_numbers = []\n",
    "    for num in range(1, 26):\n",
    "        if num % 2 != 0:\n",
    "            odd_numbers.append(num)\n",
    "    return odd_numbers\n"
   ]
  },
  {
   "cell_type": "code",
   "execution_count": 28,
   "id": "566d8642-f7ed-4341-8502-fc3a39a3fd83",
   "metadata": {},
   "outputs": [
    {
     "data": {
      "text/plain": [
       "[1, 3, 5, 7, 9]"
      ]
     },
     "execution_count": 28,
     "metadata": {},
     "output_type": "execute_result"
    }
   ],
   "source": [
    "test()\n",
    "    "
   ]
  },
  {
   "cell_type": "code",
   "execution_count": null,
   "id": "5437588e-7c7d-4b77-936e-687d9f067050",
   "metadata": {},
   "outputs": [],
   "source": [
    "''' Q2 Why *args and **kwargs is used in some functions? Create a function each for *args and **kwargs\n",
    "to demonstrate their use.'''"
   ]
  },
  {
   "cell_type": "code",
   "execution_count": null,
   "id": "88e42d20-c929-46f6-937d-7880097c66ed",
   "metadata": {},
   "outputs": [],
   "source": [
    "*args is used to pass a variable number of non-keyword arguments to a function.\n",
    "It allows you to pass any number of positional arguments to a function, which are then packed into a tuple.\n",
    "The name args is arbitrary and can be any valid variable name preceded by an asterisk."
   ]
  },
  {
   "cell_type": "code",
   "execution_count": 1,
   "id": "e417d8f1-d1de-4c05-bab3-0b9d46d7e7df",
   "metadata": {},
   "outputs": [],
   "source": [
    "**kwargs is used to pass a variable number of keyword arguments to a function.\n",
    "It allows you to pass any number of keyword arguments to a function, which are then packed into a dictionary.\n",
    "The name kwargs is arbitrary and can be any valid variable name preceded by two asterisks"
   ]
  },
  {
   "cell_type": "code",
   "execution_count": 5,
   "id": "16075007-ce63-4d07-870f-bbe3b95b50be",
   "metadata": {},
   "outputs": [
    {
     "name": "stdout",
     "output_type": "stream",
     "text": [
      "('kapil', 'rashiyan')\n",
      "{'age': 23, 'dob': 2000}\n"
     ]
    }
   ],
   "source": [
    "def hello(*args,**kwargs):\n",
    "    print(args)\n",
    "    print(kwargs)\n",
    "hello(\"kapil\",\"rashiyan\",age=23,dob=2000)"
   ]
  },
  {
   "cell_type": "code",
   "execution_count": null,
   "id": "e9a19e68-03d9-4621-8696-5b32f9bc951b",
   "metadata": {},
   "outputs": [],
   "source": [
    "''' Q3 What is an iterator in python? Name the method used to initialise the iterator object and the method\n",
    "used for iteration. Use these methods to print the first five elements of the given list [2, 4, 6, 8, 10, 12, 14,\n",
    "16, 18, 20].'''"
   ]
  },
  {
   "cell_type": "code",
   "execution_count": null,
   "id": "a723763c-37f6-4a8a-92e5-efab57756269",
   "metadata": {},
   "outputs": [],
   "source": [
    "An iterator is an object that contains a countable number of values.\n",
    "\n",
    "An iterator is an object that can be iterated upon, meaning that you can traverse through all the values.\n",
    "\n",
    "Technically, in Python, an iterator is an object which implements the iterator protocol, which consist of the methods __iter__() and __next__()."
   ]
  },
  {
   "cell_type": "code",
   "execution_count": 7,
   "id": "4e7a2b19-a36d-4b2d-804a-a1aae5921ef0",
   "metadata": {},
   "outputs": [
    {
     "name": "stdout",
     "output_type": "stream",
     "text": [
      "2\n",
      "4\n",
      "6\n",
      "8\n",
      "10\n"
     ]
    }
   ],
   "source": [
    "mytuple = [2, 4, 6, 8, 10, 12, 14,16, 18, 20]\n",
    "myit = iter(mytuple)\n",
    "\n",
    "print(next(myit))\n",
    "print(next(myit))\n",
    "print(next(myit))\n",
    "print(next(myit))\n",
    "print(next(myit))"
   ]
  },
  {
   "cell_type": "code",
   "execution_count": null,
   "id": "4da52ea1-b310-473f-b597-6b3552150d57",
   "metadata": {},
   "outputs": [],
   "source": [
    "'''Q4. What is a generator function in python? Why yield keyword is used? Give an example of a generator\n",
    "function.'''"
   ]
  },
  {
   "cell_type": "code",
   "execution_count": null,
   "id": "f6a7f401-df6b-46de-94c2-cf5da768b14e",
   "metadata": {},
   "outputs": [],
   "source": [
    "Generator-Function: A generator-function is defined like a normal function, but whenever it needs to generate a value, it does so with the yield keyword rather than return. \n",
    "If the body of a def contains yield, the function automatically becomes a generator function"
   ]
  },
  {
   "cell_type": "code",
   "execution_count": null,
   "id": "a5058a23-2977-419a-9a39-954890a146b8",
   "metadata": {},
   "outputs": [],
   "source": [
    "In Python, a yield is a keyword used in the definition of generator functions.\n",
    "It is used to produce a sequence of values or items, one at a time, and pause the execution of the generator\n",
    "function until the next value is requested.\n",
    "\n",
    "When the generator function is called,\n",
    "it returns a generator object that can be used to iterate overthe sequence \n",
    "of values produced by the function. Each time the next value in the sequence is requested, \n",
    "the generator function resumes execution from where it left off and produces the next value using the yield keyword."
   ]
  },
  {
   "cell_type": "code",
   "execution_count": 6,
   "id": "d51f0e66-99ae-484d-9784-5166fa197811",
   "metadata": {},
   "outputs": [
    {
     "name": "stdout",
     "output_type": "stream",
     "text": [
      "0\n",
      "1\n",
      "2\n"
     ]
    }
   ],
   "source": [
    "def my_generator():\n",
    "    for i in range(50):\n",
    "        yield i\n",
    "gen = my_generator()\n",
    "print(next(gen))\n",
    "print(next(gen))\n",
    "print(next(gen))"
   ]
  },
  {
   "cell_type": "code",
   "execution_count": null,
   "id": "ba5ccc28-f019-4c82-b726-ed87e6ec9ff2",
   "metadata": {},
   "outputs": [],
   "source": []
  },
  {
   "cell_type": "code",
   "execution_count": null,
   "id": "b6659018-31dd-4969-adc9-9dafa4ef1a21",
   "metadata": {},
   "outputs": [],
   "source": [
    "'''Q5.Create a generator function for prime numbers less than 1000. Use the next() method to print the\n",
    "first 20 prime numbers.'''"
   ]
  },
  {
   "cell_type": "code",
   "execution_count": 8,
   "id": "0ab3a3e0-98b7-4011-813f-b72960528894",
   "metadata": {},
   "outputs": [
    {
     "name": "stdout",
     "output_type": "stream",
     "text": [
      "0\n",
      "1\n",
      "2\n",
      "3\n",
      "4\n",
      "5\n",
      "6\n",
      "7\n",
      "8\n",
      "9\n",
      "10\n",
      "11\n",
      "12\n",
      "13\n",
      "14\n",
      "15\n",
      "16\n",
      "17\n",
      "18\n",
      "19\n"
     ]
    }
   ],
   "source": [
    "def my_generator(n):\n",
    "    for i in range(n):\n",
    "        yield i\n",
    "for num in my_generator(20):\n",
    "    print(num)"
   ]
  },
  {
   "cell_type": "code",
   "execution_count": null,
   "id": "114a69c0-a031-4d4e-bcaa-14c8f08d3b75",
   "metadata": {},
   "outputs": [],
   "source": [
    "''' Q.6 Write a python program to print the first 10 Fibonacci numbers using a while loop.'''"
   ]
  },
  {
   "cell_type": "code",
   "execution_count": 9,
   "id": "0c2499de-d56e-498a-911a-d659e4bcbde8",
   "metadata": {},
   "outputs": [
    {
     "name": "stdin",
     "output_type": "stream",
     "text": [
      "enter the number of element you are looking for 23\n"
     ]
    },
    {
     "name": "stdout",
     "output_type": "stream",
     "text": [
      "0\n",
      "1\n",
      "1\n",
      "2\n",
      "3\n",
      "5\n",
      "8\n",
      "13\n",
      "21\n",
      "34\n",
      "55\n",
      "89\n",
      "144\n",
      "233\n",
      "377\n",
      "610\n",
      "987\n",
      "1597\n",
      "2584\n",
      "4181\n",
      "6765\n",
      "10946\n",
      "17711\n"
     ]
    }
   ],
   "source": [
    "number = int(input(\"enter the number of element you are looking for\"))\n",
    "a,b = 0,1\n",
    "counter = 0\n",
    "while counter < number :\n",
    "    print(a)\n",
    "    c = a+b\n",
    "    a = b\n",
    "    b = c\n",
    "    counter = counter+ 1"
   ]
  },
  {
   "cell_type": "code",
   "execution_count": null,
   "id": "a091e54e-c8fe-4064-a58f-65d51579d675",
   "metadata": {},
   "outputs": [],
   "source": [
    "''' Q.7 Write a List Comprehension to iterate through the given string: ‘pwskills’.\n",
    "Expected output: ['p', 'w', 's', 'k', 'i', 'l', 'l', 's']'''"
   ]
  },
  {
   "cell_type": "code",
   "execution_count": 13,
   "id": "0258a0f5-b212-439d-bcd1-e7e4c1b432f3",
   "metadata": {},
   "outputs": [
    {
     "name": "stdout",
     "output_type": "stream",
     "text": [
      "['p', 'w', 's', 'k', 'i', 'l', 'l', 's']\n"
     ]
    }
   ],
   "source": [
    "s = 'pwskills'\n",
    "r = [char for char in s if char in 'pwskills']\n",
    "print(r)"
   ]
  },
  {
   "cell_type": "code",
   "execution_count": null,
   "id": "ae0f9ea3-4c17-43b0-ba1b-b09ef20433a6",
   "metadata": {},
   "outputs": [],
   "source": [
    "'''Q.8 Write a python program to check whether a given number is Palindrome or not using a while loop.'''"
   ]
  },
  {
   "cell_type": "code",
   "execution_count": 1,
   "id": "61b180f5-009a-4ea5-8075-5c6f4fb6bb29",
   "metadata": {},
   "outputs": [
    {
     "name": "stdin",
     "output_type": "stream",
     "text": [
      "Enter a number:  12\n"
     ]
    },
    {
     "name": "stdout",
     "output_type": "stream",
     "text": [
      "12 is not a palindrome number\n"
     ]
    }
   ],
   "source": [
    "num = int(input(\"Enter a number: \"))\n",
    "temp = num\n",
    "reverse = 0\n",
    "\n",
    "while temp > 0:\n",
    "    remainder = temp % 10\n",
    "    reverse = (reverse * 10) + remainder\n",
    "    temp = temp // 10\n",
    "\n",
    "if num == reverse:\n",
    "    print(num, \"is a palindrome number\")\n",
    "else:\n",
    "    print(num, \"is not a palindrome number\")\n"
   ]
  },
  {
   "cell_type": "code",
   "execution_count": null,
   "id": "0b5d4163-9251-4c4b-8f8d-7c41bf62077a",
   "metadata": {},
   "outputs": [],
   "source": [
    "'''Q9.Write a code to print odd numbers from 1 to 100 using list comprehension.'''"
   ]
  },
  {
   "cell_type": "code",
   "execution_count": 2,
   "id": "23ffa117-5be7-449a-9e94-f354fd57b5f2",
   "metadata": {},
   "outputs": [
    {
     "name": "stdout",
     "output_type": "stream",
     "text": [
      "[1, 3, 5, 7, 9, 11, 13, 15, 17, 19, 21, 23, 25, 27, 29, 31, 33, 35, 37, 39, 41, 43, 45, 47, 49, 51, 53, 55, 57, 59, 61, 63, 65, 67, 69, 71, 73, 75, 77, 79, 81, 83, 85, 87, 89, 91, 93, 95, 97, 99]\n"
     ]
    }
   ],
   "source": [
    "odd_numbers = [num for num in range(1, 101) if num % 2 != 0]\n",
    "print(odd_numbers)\n"
   ]
  },
  {
   "cell_type": "code",
   "execution_count": null,
   "id": "ace96423-3969-4962-bfac-89599e3a94fb",
   "metadata": {},
   "outputs": [],
   "source": []
  }
 ],
 "metadata": {
  "kernelspec": {
   "display_name": "Python 3 (ipykernel)",
   "language": "python",
   "name": "python3"
  },
  "language_info": {
   "codemirror_mode": {
    "name": "ipython",
    "version": 3
   },
   "file_extension": ".py",
   "mimetype": "text/x-python",
   "name": "python",
   "nbconvert_exporter": "python",
   "pygments_lexer": "ipython3",
   "version": "3.10.8"
  }
 },
 "nbformat": 4,
 "nbformat_minor": 5
}
